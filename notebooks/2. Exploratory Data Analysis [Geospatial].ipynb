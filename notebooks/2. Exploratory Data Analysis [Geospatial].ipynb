{
 "cells": [
  {
   "cell_type": "code",
   "execution_count": 71,
   "id": "portuguese-accident",
   "metadata": {},
   "outputs": [],
   "source": [
    "####################################################\n",
    "## Exploratory Data Analysis of NOLA Police Calls ##\n",
    "## @brett | 09-05-2021                            ##\n",
    "####################################################"
   ]
  },
  {
   "cell_type": "markdown",
   "id": "beautiful-crime",
   "metadata": {},
   "source": [
    "# Getting Data Ready"
   ]
  },
  {
   "cell_type": "code",
   "execution_count": 72,
   "id": "spare-stockholm",
   "metadata": {},
   "outputs": [],
   "source": [
    "import pandas as pd\n",
    "from datetime import datetime\n",
    "import seaborn as sns\n",
    "import matplotlib.pyplot as plt\n",
    "import geopandas as gpd\n",
    "from matplotlib.lines import Line2D\n",
    "import imageio\n",
    "\n",
    "# Change some settings\n",
    "pd.options.display.max_rows = 999\n",
    "\n",
    "# Import Data\n",
    "last_year = pd.read_csv('./../data/Calls_for_service_2020.csv')\n",
    "this_year = pd.read_csv('./../data/Calls_for_service_2021.csv')\n",
    "\n",
    "# Merge into one dataset\n",
    "data = this_year.append(last_year).reset_index().drop('index',axis=1)\n",
    "\n",
    "# Extract Date from Timestamp\n",
    "data['DateCreate'] = data['TimeCreate'].apply(lambda x: datetime.strptime(x[:10],'%m/%d/%Y'))\n",
    "\n",
    "# Constants\n",
    "CRS = \"EPSG:4326\""
   ]
  },
  {
   "cell_type": "code",
   "execution_count": 73,
   "id": "5bede399",
   "metadata": {},
   "outputs": [],
   "source": [
    "# Read New Orleans Shapefile available here (https://portal-nolagis.opendata.arcgis.com/datasets/neighborhood-statistical-areas/explore)\n",
    "no = gpd.read_file('./../data/Neighborhood_Statistical_Areas.zip')\n",
    "no = no.to_crs(epsg=4326)"
   ]
  },
  {
   "cell_type": "code",
   "execution_count": 74,
   "id": "b9a0a872",
   "metadata": {},
   "outputs": [],
   "source": [
    "def get_latlon(s, lat=True):\n",
    "    '''\n",
    "    Helper Function to extract lat/lon from string\n",
    "    '''\n",
    "    try:\n",
    "        t = s.replace('(','').replace(')','').split(' ')\n",
    "        x = t[1]\n",
    "        y = t[2]\n",
    "        if(lat):\n",
    "            return(float(x))\n",
    "        else:\n",
    "            return(float(y))\n",
    "    except:\n",
    "        return(None)"
   ]
  },
  {
   "cell_type": "code",
   "execution_count": 75,
   "id": "eccca1cf",
   "metadata": {},
   "outputs": [],
   "source": [
    "data['lat'] = data.Location.apply(lambda x: get_latlon(x, True))\n",
    "data['lon'] = data.Location.apply(lambda x: get_latlon(x, False))"
   ]
  },
  {
   "cell_type": "code",
   "execution_count": 76,
   "id": "99df9d9e",
   "metadata": {},
   "outputs": [],
   "source": [
    "data = data[data.lat!=0]\n",
    "data = data.reset_index()\n",
    "\n",
    "color_mapping={\n",
    "'AREA CHECK':'#003f5c'\n",
    ",'COMPLAINT OTHER':'#2f4b7c'\n",
    ",'DISTURBANCE (OTHER)':'#665191'\n",
    ",'BUSINESS CHECK':'#a05195'\n",
    ",'BURGLAR ALARM, SILENT':'#d45087'\n",
    ",'RETURN FOR ADDITIONAL INFO':'#f95d6a'\n",
    ",'SUSPICIOUS PERSON':'#ff7c43'\n",
    ",'OTHER':'#ffa600'\n",
    "}"
   ]
  },
  {
   "cell_type": "code",
   "execution_count": 77,
   "id": "7351b2d1",
   "metadata": {},
   "outputs": [],
   "source": [
    "data['TypeTextCleaned']= data.TypeText.apply(lambda x: x if x in color_mapping.keys() else 'OTHER')"
   ]
  },
  {
   "cell_type": "code",
   "execution_count": 78,
   "id": "467967c3",
   "metadata": {},
   "outputs": [],
   "source": [
    "geometry = gpd.points_from_xy(data.lat, data.lon, crs=CRS)\n",
    "geo_df = gpd.GeoDataFrame(data, crs=CRS, geometry=geometry)"
   ]
  },
  {
   "cell_type": "code",
   "execution_count": 92,
   "id": "95b14a50",
   "metadata": {},
   "outputs": [],
   "source": [
    "bounding_box = no.envelope\n",
    "total_no = gpd.GeoDataFrame(gpd.GeoSeries(bounding_box), columns=['geometry'])\n",
    "intersections = gpd.overlay(geo_df, total_no, how='intersection')"
   ]
  },
  {
   "cell_type": "code",
   "execution_count": 10,
   "id": "407c07f8",
   "metadata": {},
   "outputs": [],
   "source": [
    "# IGNORE_LIST = ['LAKE CATHERINE', 'VILLAGE DE LEST', 'VIAVANT - VENETIAN ISLES', 'NEW AURORA - ENGLISH TURN']\n",
    "# no[~no.GNOCDC_LAB.isin(IGNORE_LIST)]"
   ]
  },
  {
   "cell_type": "code",
   "execution_count": 11,
   "id": "b098918c",
   "metadata": {},
   "outputs": [],
   "source": [
    "dates = [str(x)[:10] for x in data.DateCreate.unique()]\n",
    "dates.sort()"
   ]
  },
  {
   "cell_type": "code",
   "execution_count": 107,
   "id": "e13902b7",
   "metadata": {},
   "outputs": [],
   "source": [
    "in_bounds = geo_df[(geo_df.lat<=-89.6067156925987)&(geo_df.lat>=-90.12815362726941)&(geo_df.lon>=29.86561020508644)&(geo_df.lon<=30.17481060856237)]\n",
    "for i, r in enumerate(dates):\n",
    "    fig,ax = plt.subplots(figsize = (15,15))\n",
    "    no.plot(ax = ax,color=\"#ECECEC\", edgecolor=\"#D4D4D4\")\n",
    "    in_bounds[in_bounds.DateCreate==r]['geometry'].plot(ax=ax, color=geo_df['TypeTextCleaned'].map(color_mapping), alpha = 0.5)\n",
    "    handles = [Line2D([0], [0], marker='o', color='w', markerfacecolor=v, label=k, markersize=8) for k, v in color_mapping.items()]\n",
    "    ax.legend(title='Incident Type', handles=handles, loc='upper right')\n",
    "    ax.text(0.95, 0.05,r,\n",
    "         horizontalalignment='center',\n",
    "         verticalalignment='center',\n",
    "         transform = ax.transAxes)\n",
    "    ax.axis('off')\n",
    "    plt.savefig(f'./../visualizations/raw/{i}.png')\n",
    "    plt.close(fig)"
   ]
  },
  {
   "cell_type": "code",
   "execution_count": 108,
   "id": "eaed0318",
   "metadata": {},
   "outputs": [],
   "source": [
    "with imageio.get_writer('./../visualizations/final/temporal.gif', mode='I') as writer:\n",
    "    for filename in ['./../visualizations/raw/' + str(i) + '.png' for i, r in enumerate(dates)]:\n",
    "        image = imageio.imread(filename)\n",
    "        writer.append_data(image)"
   ]
  },
  {
   "cell_type": "code",
   "execution_count": null,
   "id": "f27255f7",
   "metadata": {},
   "outputs": [],
   "source": []
  }
 ],
 "metadata": {
  "kernelspec": {
   "display_name": "Python 3 (ipykernel)",
   "language": "python",
   "name": "python3"
  },
  "language_info": {
   "codemirror_mode": {
    "name": "ipython",
    "version": 3
   },
   "file_extension": ".py",
   "mimetype": "text/x-python",
   "name": "python",
   "nbconvert_exporter": "python",
   "pygments_lexer": "ipython3",
   "version": "3.9.6"
  }
 },
 "nbformat": 4,
 "nbformat_minor": 5
}
